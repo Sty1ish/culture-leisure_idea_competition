{
 "cells": [
  {
   "cell_type": "code",
   "execution_count": 1,
   "id": "ed683f8a-2fb3-4330-a3a7-619c67ebe7ce",
   "metadata": {
    "tags": [],
    "pycharm": {
     "name": "#%%\n"
    }
   },
   "outputs": [],
   "source": [
    "import pandas as pd\n",
    "import numpy as np\n",
    "import matplotlib as plt\n",
    "import seaborn as sns"
   ]
  },
  {
   "cell_type": "code",
   "execution_count": 3,
   "id": "c0d867ff-4f5c-49ff-8e44-2620a44a2870",
   "metadata": {
    "pycharm": {
     "name": "#%%\n"
    }
   },
   "outputs": [
    {
     "data": {
      "text/plain": "   Unnamed: 0  v1 gb3 gb2 sex_ccd  cln_age_r daw_ccd_r apv_ts_dl_tm_r  \\\n0           0  부산  여행  숙박       F         20     WHITE             휴식   \n1           1  전남  여행  교통       F         20     WHITE             활동   \n2           2  전북  여행  교통       F         60     WHITE             활동   \n3           3  대전  여행  교통       M         40       RED             휴식   \n4           4  세종  여행  교통       M         20     WHITE             휴식   \n\n         vlm   usec  month   v2v3  Cluster Labels  \n0    3002100     78     12  부산-남구               0  \n1  342682500  11832     12  대전-동구               3  \n2   75727900   3225      6  대전-동구               1  \n3   51028600   2645     11  대전-동구               0  \n4   31370200   2397     11  대전-동구               0  ",
      "text/html": "<div>\n<style scoped>\n    .dataframe tbody tr th:only-of-type {\n        vertical-align: middle;\n    }\n\n    .dataframe tbody tr th {\n        vertical-align: top;\n    }\n\n    .dataframe thead th {\n        text-align: right;\n    }\n</style>\n<table border=\"1\" class=\"dataframe\">\n  <thead>\n    <tr style=\"text-align: right;\">\n      <th></th>\n      <th>Unnamed: 0</th>\n      <th>v1</th>\n      <th>gb3</th>\n      <th>gb2</th>\n      <th>sex_ccd</th>\n      <th>cln_age_r</th>\n      <th>daw_ccd_r</th>\n      <th>apv_ts_dl_tm_r</th>\n      <th>vlm</th>\n      <th>usec</th>\n      <th>month</th>\n      <th>v2v3</th>\n      <th>Cluster Labels</th>\n    </tr>\n  </thead>\n  <tbody>\n    <tr>\n      <th>0</th>\n      <td>0</td>\n      <td>부산</td>\n      <td>여행</td>\n      <td>숙박</td>\n      <td>F</td>\n      <td>20</td>\n      <td>WHITE</td>\n      <td>휴식</td>\n      <td>3002100</td>\n      <td>78</td>\n      <td>12</td>\n      <td>부산-남구</td>\n      <td>0</td>\n    </tr>\n    <tr>\n      <th>1</th>\n      <td>1</td>\n      <td>전남</td>\n      <td>여행</td>\n      <td>교통</td>\n      <td>F</td>\n      <td>20</td>\n      <td>WHITE</td>\n      <td>활동</td>\n      <td>342682500</td>\n      <td>11832</td>\n      <td>12</td>\n      <td>대전-동구</td>\n      <td>3</td>\n    </tr>\n    <tr>\n      <th>2</th>\n      <td>2</td>\n      <td>전북</td>\n      <td>여행</td>\n      <td>교통</td>\n      <td>F</td>\n      <td>60</td>\n      <td>WHITE</td>\n      <td>활동</td>\n      <td>75727900</td>\n      <td>3225</td>\n      <td>6</td>\n      <td>대전-동구</td>\n      <td>1</td>\n    </tr>\n    <tr>\n      <th>3</th>\n      <td>3</td>\n      <td>대전</td>\n      <td>여행</td>\n      <td>교통</td>\n      <td>M</td>\n      <td>40</td>\n      <td>RED</td>\n      <td>휴식</td>\n      <td>51028600</td>\n      <td>2645</td>\n      <td>11</td>\n      <td>대전-동구</td>\n      <td>0</td>\n    </tr>\n    <tr>\n      <th>4</th>\n      <td>4</td>\n      <td>세종</td>\n      <td>여행</td>\n      <td>교통</td>\n      <td>M</td>\n      <td>20</td>\n      <td>WHITE</td>\n      <td>휴식</td>\n      <td>31370200</td>\n      <td>2397</td>\n      <td>11</td>\n      <td>대전-동구</td>\n      <td>0</td>\n    </tr>\n  </tbody>\n</table>\n</div>"
     },
     "execution_count": 3,
     "metadata": {},
     "output_type": "execute_result"
    }
   ],
   "source": [
    "df = pd.read_csv('2021년_k=4_K_prototype.csv')\n",
    "df.head()"
   ]
  },
  {
   "cell_type": "code",
   "execution_count": 4,
   "id": "2ebc1ec2-ac03-4f22-9fab-91f6cbaeaaac",
   "metadata": {
    "pycharm": {
     "name": "#%%\n"
    }
   },
   "outputs": [
    {
     "data": {
      "text/plain": "   Cluster Labels  v1    v2v3 gb2          usec  cln_age_r  month daw_ccd_r  \\\n0               0  경기  제주-제주시  숙박     93.990000  30.444674     10     WHITE   \n1               1  경기  제주-제주시  숙박     72.945273  54.204868     10     WHITE   \n2               2  서울   대전-동구  교통  65461.512195  33.623693     11     WHITE   \n3               3  서울   대전-동구  교통   9828.887539  36.513897     11     WHITE   \n\n            vlm sex_ccd     gb3  \n0  4.494729e+06       M  935877  \n1  3.881218e+06       M  518901  \n2  2.101190e+09       F     287  \n3  4.382339e+08       M    5433  ",
      "text/html": "<div>\n<style scoped>\n    .dataframe tbody tr th:only-of-type {\n        vertical-align: middle;\n    }\n\n    .dataframe tbody tr th {\n        vertical-align: top;\n    }\n\n    .dataframe thead th {\n        text-align: right;\n    }\n</style>\n<table border=\"1\" class=\"dataframe\">\n  <thead>\n    <tr style=\"text-align: right;\">\n      <th></th>\n      <th>Cluster Labels</th>\n      <th>v1</th>\n      <th>v2v3</th>\n      <th>gb2</th>\n      <th>usec</th>\n      <th>cln_age_r</th>\n      <th>month</th>\n      <th>daw_ccd_r</th>\n      <th>vlm</th>\n      <th>sex_ccd</th>\n      <th>gb3</th>\n    </tr>\n  </thead>\n  <tbody>\n    <tr>\n      <th>0</th>\n      <td>0</td>\n      <td>경기</td>\n      <td>제주-제주시</td>\n      <td>숙박</td>\n      <td>93.990000</td>\n      <td>30.444674</td>\n      <td>10</td>\n      <td>WHITE</td>\n      <td>4.494729e+06</td>\n      <td>M</td>\n      <td>935877</td>\n    </tr>\n    <tr>\n      <th>1</th>\n      <td>1</td>\n      <td>경기</td>\n      <td>제주-제주시</td>\n      <td>숙박</td>\n      <td>72.945273</td>\n      <td>54.204868</td>\n      <td>10</td>\n      <td>WHITE</td>\n      <td>3.881218e+06</td>\n      <td>M</td>\n      <td>518901</td>\n    </tr>\n    <tr>\n      <th>2</th>\n      <td>2</td>\n      <td>서울</td>\n      <td>대전-동구</td>\n      <td>교통</td>\n      <td>65461.512195</td>\n      <td>33.623693</td>\n      <td>11</td>\n      <td>WHITE</td>\n      <td>2.101190e+09</td>\n      <td>F</td>\n      <td>287</td>\n    </tr>\n    <tr>\n      <th>3</th>\n      <td>3</td>\n      <td>서울</td>\n      <td>대전-동구</td>\n      <td>교통</td>\n      <td>9828.887539</td>\n      <td>36.513897</td>\n      <td>11</td>\n      <td>WHITE</td>\n      <td>4.382339e+08</td>\n      <td>M</td>\n      <td>5433</td>\n    </tr>\n  </tbody>\n</table>\n</div>"
     },
     "execution_count": 4,
     "metadata": {},
     "output_type": "execute_result"
    }
   ],
   "source": [
    "df.groupby('Cluster Labels').agg({\n",
    "    'v1' : lambda x:x.mode(),\n",
    "    'v2v3' : lambda x:x.mode(),\n",
    "    'gb2' : lambda x:x.mode(),\n",
    "    'usec' : 'mean',\n",
    "    'cln_age_r' : 'mean',\n",
    "    'month' : lambda x:x.mode(),\n",
    "    'daw_ccd_r' : lambda x:x.mode(),\n",
    "    'vlm' : 'mean',\n",
    "    'sex_ccd' : lambda x:x.mode(),\n",
    "    'gb3' : 'count'\n",
    "}).reset_index()"
   ]
  },
  {
   "cell_type": "code",
   "execution_count": 5,
   "id": "38eeee4d-4085-4f38-8dc3-a17c2f123175",
   "metadata": {
    "pycharm": {
     "name": "#%%\n"
    }
   },
   "outputs": [
    {
     "name": "stdout",
     "output_type": "stream",
     "text": [
      "<class 'pandas.core.frame.DataFrame'>\n",
      "RangeIndex: 1460498 entries, 0 to 1460497\n",
      "Data columns (total 13 columns):\n",
      " #   Column          Non-Null Count    Dtype \n",
      "---  ------          --------------    ----- \n",
      " 0   Unnamed: 0      1460498 non-null  int64 \n",
      " 1   v1              1460498 non-null  object\n",
      " 2   gb3             1460498 non-null  object\n",
      " 3   gb2             1460498 non-null  object\n",
      " 4   sex_ccd         1460498 non-null  object\n",
      " 5   cln_age_r       1460498 non-null  int64 \n",
      " 6   daw_ccd_r       1460498 non-null  object\n",
      " 7   apv_ts_dl_tm_r  1460498 non-null  object\n",
      " 8   vlm             1460498 non-null  int64 \n",
      " 9   usec            1460498 non-null  int64 \n",
      " 10  month           1460498 non-null  int64 \n",
      " 11  v2v3            1460498 non-null  object\n",
      " 12  Cluster Labels  1460498 non-null  int64 \n",
      "dtypes: int64(6), object(7)\n",
      "memory usage: 144.9+ MB\n"
     ]
    }
   ],
   "source": [
    "df.info()"
   ]
  },
  {
   "cell_type": "code",
   "execution_count": 6,
   "id": "f35a0508-9ccf-448d-8130-82f397e47f56",
   "metadata": {
    "pycharm": {
     "name": "#%%\n"
    }
   },
   "outputs": [
    {
     "data": {
      "text/plain": "경기      119408\n서울      110777\n인천       72059\n부산       58317\n경남       56847\n충남       54306\n충북       54044\n경북       52944\n대구       49606\n강원       48813\n대전       47422\n전남       41342\n전북       40615\n광주       40430\n울산       35603\n세종       25155\n제주       19248\n구분없음      8941\nName: v1, dtype: int64"
     },
     "execution_count": 6,
     "metadata": {},
     "output_type": "execute_result"
    }
   ],
   "source": [
    "cluster0 = df[df['Cluster Labels'] == 0 ]\n",
    "cluster0.v1.value_counts()"
   ]
  },
  {
   "cell_type": "code",
   "execution_count": 7,
   "id": "158efd38-bea4-4e74-8f4f-cbdb33d025d8",
   "metadata": {
    "pycharm": {
     "name": "#%%\n"
    }
   },
   "outputs": [
    {
     "data": {
      "text/plain": "서울    1840\n경기    1550\n부산     264\n대구     253\n경북     201\n인천     177\n대전     166\n충남     157\n경남     138\n강원     134\n충북     119\n전남     115\n울산      79\n전북      76\n광주      70\n제주      50\n세종      44\nName: v1, dtype: int64"
     },
     "execution_count": 7,
     "metadata": {},
     "output_type": "execute_result"
    }
   ],
   "source": [
    "cluster3 = df[df['Cluster Labels'] == 3 ]\n",
    "cluster3.v1.value_counts()"
   ]
  },
  {
   "cell_type": "code",
   "execution_count": 8,
   "id": "ae468033-807d-4f3a-854a-17619754403f",
   "metadata": {
    "pycharm": {
     "name": "#%%\n"
    }
   },
   "outputs": [
    {
     "data": {
      "text/plain": "제주-제주시     23566\n서울-강남구     18255\n인천-중구      14694\n부산-해운대구    13594\n제주-서귀포시    13570\n           ...  \n경남-의령군       604\n전북-진안군       550\n경북-고령군       440\n경북-영양군       353\n전북-장수군       345\nName: v2v3, Length: 229, dtype: int64"
     },
     "execution_count": 8,
     "metadata": {},
     "output_type": "execute_result"
    }
   ],
   "source": [
    "cluster0.v2v3.value_counts()"
   ]
  },
  {
   "cell_type": "code",
   "execution_count": 9,
   "id": "7ba69ec3-3784-4551-bd5e-6eed99c34eb0",
   "metadata": {
    "pycharm": {
     "name": "#%%\n"
    }
   },
   "outputs": [
    {
     "data": {
      "text/plain": "대전-동구      2283\n서울-강남구      865\n서울-강서구      596\n제주-제주시      510\n서울-중구       272\n제주-서귀포시     193\n서울-서초구      124\n경기-안양시      114\n경기-성남시      113\n부산-강서구       56\n강원-홍천군       54\n강원-평창군       38\n경기-과천시       34\n서울-종로구       33\n서울-송파구       26\n울산-동구        18\n서울-용산구       18\n서울-영등포구      16\n강원-속초시       11\n경기-용인시       10\n부산-해운대구       9\n인천-중구         7\n강원-정선군        3\n경북-경주시        3\n강원-동해시        2\n대구-수성구        2\n대전-유성구        1\n강원-고성군        1\n서울-구로구        1\n경기-평택시        1\n부산-북구         1\n경기-수원시        1\n전북-전주시        1\n전남-화순군        1\n부산-기장군        1\n경남-창원시        1\n경기-연천군        1\n울산-남구         1\n충북-청주시        1\n서울-광진구        1\n전남-목포시        1\n강원-삼척시        1\n광주-북구         1\n경북-포항시        1\n경기-안성시        1\n전북-남원시        1\n서울-마포구        1\n충남-천안시        1\n인천-연수구        1\nName: v2v3, dtype: int64"
     },
     "execution_count": 9,
     "metadata": {},
     "output_type": "execute_result"
    }
   ],
   "source": [
    "cluster3.v2v3.value_counts()"
   ]
  },
  {
   "cell_type": "code",
   "execution_count": 9,
   "id": "323b0d69-b509-46bc-ad1a-b9e7ee77669f",
   "metadata": {
    "pycharm": {
     "name": "#%%\n"
    }
   },
   "outputs": [],
   "source": []
  },
  {
   "cell_type": "code",
   "execution_count": 2,
   "id": "ab1cb195-7375-4deb-8d4c-fab0a1144e65",
   "metadata": {
    "pycharm": {
     "name": "#%%\n"
    }
   },
   "outputs": [],
   "source": [
    "df_8group = pd.read_csv('2021년_k=8_K_prototype.csv')"
   ]
  },
  {
   "cell_type": "code",
   "execution_count": 3,
   "id": "40a66ae1-f423-400f-ab61-10a22adbd43d",
   "metadata": {
    "pycharm": {
     "name": "#%%\n"
    }
   },
   "outputs": [
    {
     "data": {
      "text/plain": "   Cluster Labels  v1    v2v3 gb2          usec  cln_age_r    month daw_ccd_r  \\\n0               0  서울   대전-동구  교통   4874.958979  37.011006       10     WHITE   \n1               1  경기  제주-제주시  숙박     57.720042  56.126130       10       RED   \n2               2  서울   인천-중구  숙박     61.494668  47.122536        1     WHITE   \n3               3  인천  제주-제주시  숙박     70.339781  41.037628       11       RED   \n4               4  서울   대전-동구  교통  71232.257384  33.164557  [5, 11]     WHITE   \n5               5  서울   대전-동구  교통  18019.954006  35.919881       11     WHITE   \n6               6  서울  제주-제주시  숙박     75.473444  23.927779       10     WHITE   \n7               7  경기  제주-제주시  숙박     76.052042  27.037643        5       RED   \n\n            vlm sex_ccd     gb3  \n0  2.090373e+08       M   11994  \n1  3.083239e+06       F  288386  \n2  3.627883e+06       M  345391  \n3  3.759157e+06       F  206471  \n4  2.225920e+09       F     237  \n5  8.517092e+08       M    1348  \n6  3.523651e+06       M  324919  \n7  3.401392e+06       F  281752  ",
      "text/html": "<div>\n<style scoped>\n    .dataframe tbody tr th:only-of-type {\n        vertical-align: middle;\n    }\n\n    .dataframe tbody tr th {\n        vertical-align: top;\n    }\n\n    .dataframe thead th {\n        text-align: right;\n    }\n</style>\n<table border=\"1\" class=\"dataframe\">\n  <thead>\n    <tr style=\"text-align: right;\">\n      <th></th>\n      <th>Cluster Labels</th>\n      <th>v1</th>\n      <th>v2v3</th>\n      <th>gb2</th>\n      <th>usec</th>\n      <th>cln_age_r</th>\n      <th>month</th>\n      <th>daw_ccd_r</th>\n      <th>vlm</th>\n      <th>sex_ccd</th>\n      <th>gb3</th>\n    </tr>\n  </thead>\n  <tbody>\n    <tr>\n      <th>0</th>\n      <td>0</td>\n      <td>서울</td>\n      <td>대전-동구</td>\n      <td>교통</td>\n      <td>4874.958979</td>\n      <td>37.011006</td>\n      <td>10</td>\n      <td>WHITE</td>\n      <td>2.090373e+08</td>\n      <td>M</td>\n      <td>11994</td>\n    </tr>\n    <tr>\n      <th>1</th>\n      <td>1</td>\n      <td>경기</td>\n      <td>제주-제주시</td>\n      <td>숙박</td>\n      <td>57.720042</td>\n      <td>56.126130</td>\n      <td>10</td>\n      <td>RED</td>\n      <td>3.083239e+06</td>\n      <td>F</td>\n      <td>288386</td>\n    </tr>\n    <tr>\n      <th>2</th>\n      <td>2</td>\n      <td>서울</td>\n      <td>인천-중구</td>\n      <td>숙박</td>\n      <td>61.494668</td>\n      <td>47.122536</td>\n      <td>1</td>\n      <td>WHITE</td>\n      <td>3.627883e+06</td>\n      <td>M</td>\n      <td>345391</td>\n    </tr>\n    <tr>\n      <th>3</th>\n      <td>3</td>\n      <td>인천</td>\n      <td>제주-제주시</td>\n      <td>숙박</td>\n      <td>70.339781</td>\n      <td>41.037628</td>\n      <td>11</td>\n      <td>RED</td>\n      <td>3.759157e+06</td>\n      <td>F</td>\n      <td>206471</td>\n    </tr>\n    <tr>\n      <th>4</th>\n      <td>4</td>\n      <td>서울</td>\n      <td>대전-동구</td>\n      <td>교통</td>\n      <td>71232.257384</td>\n      <td>33.164557</td>\n      <td>[5, 11]</td>\n      <td>WHITE</td>\n      <td>2.225920e+09</td>\n      <td>F</td>\n      <td>237</td>\n    </tr>\n    <tr>\n      <th>5</th>\n      <td>5</td>\n      <td>서울</td>\n      <td>대전-동구</td>\n      <td>교통</td>\n      <td>18019.954006</td>\n      <td>35.919881</td>\n      <td>11</td>\n      <td>WHITE</td>\n      <td>8.517092e+08</td>\n      <td>M</td>\n      <td>1348</td>\n    </tr>\n    <tr>\n      <th>6</th>\n      <td>6</td>\n      <td>서울</td>\n      <td>제주-제주시</td>\n      <td>숙박</td>\n      <td>75.473444</td>\n      <td>23.927779</td>\n      <td>10</td>\n      <td>WHITE</td>\n      <td>3.523651e+06</td>\n      <td>M</td>\n      <td>324919</td>\n    </tr>\n    <tr>\n      <th>7</th>\n      <td>7</td>\n      <td>경기</td>\n      <td>제주-제주시</td>\n      <td>숙박</td>\n      <td>76.052042</td>\n      <td>27.037643</td>\n      <td>5</td>\n      <td>RED</td>\n      <td>3.401392e+06</td>\n      <td>F</td>\n      <td>281752</td>\n    </tr>\n  </tbody>\n</table>\n</div>"
     },
     "execution_count": 3,
     "metadata": {},
     "output_type": "execute_result"
    }
   ],
   "source": [
    "df_8group.groupby('Cluster Labels').agg({\n",
    "    'v1' : lambda x:x.mode(),\n",
    "    'v2v3' : lambda x:x.mode(),\n",
    "    'gb2' : lambda x:x.mode(),\n",
    "    'usec' : 'mean',\n",
    "    'cln_age_r' : 'mean',\n",
    "    'month' : lambda x:x.mode(),\n",
    "    'daw_ccd_r' : lambda x:x.mode(),\n",
    "    'vlm' : 'mean',\n",
    "    'sex_ccd' : lambda x:x.mode(),\n",
    "    'gb3' : 'count'\n",
    "}).reset_index()"
   ]
  },
  {
   "cell_type": "raw",
   "id": "2ab6ce84-9aa5-479e-8d19-aa12bf3ee543",
   "metadata": {
    "pycharm": {
     "name": "#%% raw\n"
    }
   },
   "source": [
    "그래도 5그룹 메인그룹, 3그룹 소수그룹으로 나누어서 분석하는것이 좋아보임."
   ]
  },
  {
   "cell_type": "code",
   "execution_count": 4,
   "id": "4c72ee19-6b05-4838-9d7d-03e3771866c4",
   "metadata": {
    "pycharm": {
     "name": "#%%\n"
    }
   },
   "outputs": [],
   "source": [
    "cluster0 = df_8group[df_8group['Cluster Labels'] == 0 ]\n",
    "cluster1 = df_8group[df_8group['Cluster Labels'] == 1 ]\n",
    "cluster2 = df_8group[df_8group['Cluster Labels'] == 2 ]\n",
    "cluster3 = df_8group[df_8group['Cluster Labels'] == 3 ]\n",
    "cluster4 = df_8group[df_8group['Cluster Labels'] == 4 ]\n",
    "cluster5 = df_8group[df_8group['Cluster Labels'] == 5 ]\n",
    "cluster6 = df_8group[df_8group['Cluster Labels'] == 6 ]\n",
    "cluster7 = df_8group[df_8group['Cluster Labels'] == 7 ]"
   ]
  },
  {
   "cell_type": "code",
   "execution_count": 5,
   "id": "bf803c51-ae07-4ff8-8f4a-a41f380ddf1f",
   "metadata": {
    "pycharm": {
     "name": "#%%\n"
    }
   },
   "outputs": [],
   "source": [
    "import plotnine"
   ]
  },
  {
   "cell_type": "code",
   "execution_count": 6,
   "id": "3f6ffcd4-ca97-4abe-94a4-013534cfc908",
   "metadata": {
    "pycharm": {
     "name": "#%%\n"
    }
   },
   "outputs": [
    {
     "name": "stdout",
     "output_type": "stream",
     "text": [
      "<class 'pandas.core.frame.DataFrame'>\n",
      "Int64Index: 11994 entries, 1 to 1459537\n",
      "Data columns (total 13 columns):\n",
      " #   Column          Non-Null Count  Dtype \n",
      "---  ------          --------------  ----- \n",
      " 0   Unnamed: 0      11994 non-null  int64 \n",
      " 1   v1              11994 non-null  object\n",
      " 2   gb3             11994 non-null  object\n",
      " 3   gb2             11994 non-null  object\n",
      " 4   sex_ccd         11994 non-null  object\n",
      " 5   cln_age_r       11994 non-null  int64 \n",
      " 6   daw_ccd_r       11994 non-null  object\n",
      " 7   apv_ts_dl_tm_r  11994 non-null  object\n",
      " 8   vlm             11994 non-null  int64 \n",
      " 9   usec            11994 non-null  int64 \n",
      " 10  month           11994 non-null  int64 \n",
      " 11  v2v3            11994 non-null  object\n",
      " 12  Cluster Labels  11994 non-null  int64 \n",
      "dtypes: int64(6), object(7)\n",
      "memory usage: 1.3+ MB\n"
     ]
    }
   ],
   "source": [
    "cluster0.info()"
   ]
  },
  {
   "cell_type": "code",
   "execution_count": 7,
   "outputs": [
    {
     "name": "stdout",
     "output_type": "stream",
     "text": [
      "숙박      199179\n",
      "체험       56200\n",
      "교통       36955\n",
      "관광쇼핑     25458\n",
      "여행사       7127\n",
      "Name: gb2, dtype: int64\n"
     ]
    }
   ],
   "source": [
    "# 20대\n",
    "print(cluster6.gb2.value_counts())"
   ],
   "metadata": {
    "collapsed": false,
    "pycharm": {
     "name": "#%%\n"
    }
   }
  },
  {
   "cell_type": "code",
   "execution_count": 8,
   "outputs": [
    {
     "data": {
      "text/plain": "숙박      154432\n체험       61811\n교통       31755\n관광쇼핑     27493\n여행사       6261\nName: gb2, dtype: int64"
     },
     "execution_count": 8,
     "metadata": {},
     "output_type": "execute_result"
    }
   ],
   "source": [
    "# 20대\n",
    "cluster7.gb2.value_counts()"
   ],
   "metadata": {
    "collapsed": false,
    "pycharm": {
     "name": "#%%\n"
    }
   }
  },
  {
   "cell_type": "code",
   "execution_count": 9,
   "outputs": [
    {
     "data": {
      "text/plain": "제주-제주시     7930\n서울-강남구     6039\n인천-중구      5469\n부산-해운대구    4585\n제주-서귀포시    4437\n           ... \n전북-임실군      172\n전북-진안군      123\n경북-영양군      110\n전북-장수군      105\n경북-고령군       99\nName: v2v3, Length: 229, dtype: int64"
     },
     "execution_count": 9,
     "metadata": {},
     "output_type": "execute_result"
    }
   ],
   "source": [
    "cluster6.v2v3.value_counts(sort=True)"
   ],
   "metadata": {
    "collapsed": false,
    "pycharm": {
     "name": "#%%\n"
    }
   }
  },
  {
   "cell_type": "code",
   "execution_count": 10,
   "outputs": [
    {
     "data": {
      "text/plain": "제주-제주시     7535\n서울-강남구     5886\n인천-중구      4625\n부산-해운대구    4497\n제주-서귀포시    4379\n           ... \n충남-청양군      132\n경북-고령군      129\n경남-의령군      126\n전북-장수군       71\n경북-영양군       49\nName: v2v3, Length: 229, dtype: int64"
     },
     "execution_count": 10,
     "metadata": {},
     "output_type": "execute_result"
    }
   ],
   "source": [
    "cluster7.v2v3.value_counts(sort=True)"
   ],
   "metadata": {
    "collapsed": false,
    "pycharm": {
     "name": "#%%\n"
    }
   }
  },
  {
   "cell_type": "code",
   "execution_count": 11,
   "outputs": [],
   "source": [
    "gb2_act = df_8group[df_8group['gb2'] == '체험' ]"
   ],
   "metadata": {
    "collapsed": false,
    "pycharm": {
     "name": "#%%\n"
    }
   }
  },
  {
   "cell_type": "code",
   "execution_count": 12,
   "outputs": [
    {
     "data": {
      "text/plain": "서울-송파구     6931\n충남-태안군     5366\n전남-여수시     5232\n경북-경주시     4743\n부산-해운대구    4638\n           ... \n전북-진안군       58\n경북-고령군       52\n부산-동구        52\n경북-영양군       15\n강원-화천군       13\nName: v2v3, Length: 229, dtype: int64"
     },
     "execution_count": 12,
     "metadata": {},
     "output_type": "execute_result"
    }
   ],
   "source": [
    "# 다르게 보면 순위가 상당히 낮게 나오는데(어떤 그룹에서 봐도 100위권 밖)\n",
    "# 체험 소비로 보면 상당히 우수해보임.\n",
    "gb2_act.v2v3.value_counts(sort=True)"
   ],
   "metadata": {
    "collapsed": false,
    "pycharm": {
     "name": "#%%\n"
    }
   }
  },
  {
   "cell_type": "code",
   "execution_count": 13,
   "outputs": [
    {
     "data": {
      "text/plain": "서울-송파구     1511\n충남-태안군     1164\n전남-여수시     1092\n경북-경주시     1074\n부산-해운대구    1040\n           ... \n전북-진안군       10\n서울-구로구       10\n충남-금산군        7\n강원-화천군        6\n부산-동구         3\nName: v2v3, Length: 228, dtype: int64"
     },
     "execution_count": 13,
     "metadata": {},
     "output_type": "execute_result"
    }
   ],
   "source": [
    "# 여성 20-30대 그룹에서 체험형 소비 순위 봤을때도 양호\n",
    "cluster7[cluster7['gb2'] == '체험' ].v2v3.value_counts(sort=True)"
   ],
   "metadata": {
    "collapsed": false,
    "pycharm": {
     "name": "#%%\n"
    }
   }
  },
  {
   "cell_type": "code",
   "execution_count": 14,
   "outputs": [
    {
     "data": {
      "text/plain": "서울-송파구     1593\n충남-태안군     1123\n전남-여수시     1111\n부산-서구      1030\n부산-해운대구    1022\n           ... \n충남-청양군        7\n전북-진안군        4\n경북-고령군        4\n경북-영양군        3\n강원-화천군        2\nName: v2v3, Length: 229, dtype: int64"
     },
     "execution_count": 14,
     "metadata": {},
     "output_type": "execute_result"
    }
   ],
   "source": [
    "# 남성의 경우 비교적 낮지만 상위권에 랭크됨.\n",
    "cluster6[cluster6['gb2'] == '체험'].v2v3.value_counts(sort=True)"
   ],
   "metadata": {
    "collapsed": false,
    "pycharm": {
     "name": "#%%\n"
    }
   }
  },
  {
   "cell_type": "code",
   "execution_count": 14,
   "outputs": [],
   "source": [],
   "metadata": {
    "collapsed": false,
    "pycharm": {
     "name": "#%%\n"
    }
   }
  },
  {
   "cell_type": "code",
   "execution_count": null,
   "outputs": [],
   "source": [],
   "metadata": {
    "collapsed": false,
    "pycharm": {
     "name": "#%%\n"
    }
   }
  }
 ],
 "metadata": {
  "kernelspec": {
   "display_name": "Python 3 (ipykernel)",
   "language": "python",
   "name": "python3"
  },
  "language_info": {
   "codemirror_mode": {
    "name": "ipython",
    "version": 3
   },
   "file_extension": ".py",
   "mimetype": "text/x-python",
   "name": "python",
   "nbconvert_exporter": "python",
   "pygments_lexer": "ipython3",
   "version": "3.8.13"
  }
 },
 "nbformat": 4,
 "nbformat_minor": 5
}