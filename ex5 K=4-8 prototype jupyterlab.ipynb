{
 "cells": [
  {
   "cell_type": "code",
   "execution_count": 2,
   "id": "ed683f8a-2fb3-4330-a3a7-619c67ebe7ce",
   "metadata": {
    "tags": [],
    "pycharm": {
     "name": "#%%\n"
    }
   },
   "outputs": [],
   "source": [
    "import pandas as pd\n",
    "import numpy as np\n",
    "import matplotlib as plt\n",
    "import seaborn as sns"
   ]
  },
  {
   "cell_type": "code",
   "execution_count": 3,
   "id": "c0d867ff-4f5c-49ff-8e44-2620a44a2870",
   "metadata": {
    "pycharm": {
     "name": "#%%\n"
    }
   },
   "outputs": [
    {
     "data": {
      "text/plain": "   Unnamed: 0  v1 gb3 gb2 sex_ccd  cln_age_r daw_ccd_r apv_ts_dl_tm_r  \\\n0           0  부산  여행  숙박       F         20     WHITE             휴식   \n1           1  전남  여행  교통       F         20     WHITE             활동   \n2           2  전북  여행  교통       F         60     WHITE             활동   \n3           3  대전  여행  교통       M         40       RED             휴식   \n4           4  세종  여행  교통       M         20     WHITE             휴식   \n\n         vlm   usec  month   v2v3  Cluster Labels  \n0    3002100     78     12  부산-남구               0  \n1  342682500  11832     12  대전-동구               3  \n2   75727900   3225      6  대전-동구               1  \n3   51028600   2645     11  대전-동구               0  \n4   31370200   2397     11  대전-동구               0  ",
      "text/html": "<div>\n<style scoped>\n    .dataframe tbody tr th:only-of-type {\n        vertical-align: middle;\n    }\n\n    .dataframe tbody tr th {\n        vertical-align: top;\n    }\n\n    .dataframe thead th {\n        text-align: right;\n    }\n</style>\n<table border=\"1\" class=\"dataframe\">\n  <thead>\n    <tr style=\"text-align: right;\">\n      <th></th>\n      <th>Unnamed: 0</th>\n      <th>v1</th>\n      <th>gb3</th>\n      <th>gb2</th>\n      <th>sex_ccd</th>\n      <th>cln_age_r</th>\n      <th>daw_ccd_r</th>\n      <th>apv_ts_dl_tm_r</th>\n      <th>vlm</th>\n      <th>usec</th>\n      <th>month</th>\n      <th>v2v3</th>\n      <th>Cluster Labels</th>\n    </tr>\n  </thead>\n  <tbody>\n    <tr>\n      <th>0</th>\n      <td>0</td>\n      <td>부산</td>\n      <td>여행</td>\n      <td>숙박</td>\n      <td>F</td>\n      <td>20</td>\n      <td>WHITE</td>\n      <td>휴식</td>\n      <td>3002100</td>\n      <td>78</td>\n      <td>12</td>\n      <td>부산-남구</td>\n      <td>0</td>\n    </tr>\n    <tr>\n      <th>1</th>\n      <td>1</td>\n      <td>전남</td>\n      <td>여행</td>\n      <td>교통</td>\n      <td>F</td>\n      <td>20</td>\n      <td>WHITE</td>\n      <td>활동</td>\n      <td>342682500</td>\n      <td>11832</td>\n      <td>12</td>\n      <td>대전-동구</td>\n      <td>3</td>\n    </tr>\n    <tr>\n      <th>2</th>\n      <td>2</td>\n      <td>전북</td>\n      <td>여행</td>\n      <td>교통</td>\n      <td>F</td>\n      <td>60</td>\n      <td>WHITE</td>\n      <td>활동</td>\n      <td>75727900</td>\n      <td>3225</td>\n      <td>6</td>\n      <td>대전-동구</td>\n      <td>1</td>\n    </tr>\n    <tr>\n      <th>3</th>\n      <td>3</td>\n      <td>대전</td>\n      <td>여행</td>\n      <td>교통</td>\n      <td>M</td>\n      <td>40</td>\n      <td>RED</td>\n      <td>휴식</td>\n      <td>51028600</td>\n      <td>2645</td>\n      <td>11</td>\n      <td>대전-동구</td>\n      <td>0</td>\n    </tr>\n    <tr>\n      <th>4</th>\n      <td>4</td>\n      <td>세종</td>\n      <td>여행</td>\n      <td>교통</td>\n      <td>M</td>\n      <td>20</td>\n      <td>WHITE</td>\n      <td>휴식</td>\n      <td>31370200</td>\n      <td>2397</td>\n      <td>11</td>\n      <td>대전-동구</td>\n      <td>0</td>\n    </tr>\n  </tbody>\n</table>\n</div>"
     },
     "execution_count": 3,
     "metadata": {},
     "output_type": "execute_result"
    }
   ],
   "source": [
    "df = pd.read_csv('2021년_k=4_K_prototype.csv')\n",
    "df.head()"
   ]
  },
  {
   "cell_type": "code",
   "execution_count": 4,
   "id": "2ebc1ec2-ac03-4f22-9fab-91f6cbaeaaac",
   "metadata": {
    "pycharm": {
     "name": "#%%\n"
    }
   },
   "outputs": [
    {
     "data": {
      "text/plain": "   Cluster Labels  v1    v2v3 gb2          usec  cln_age_r  month daw_ccd_r  \\\n0               0  경기  제주-제주시  숙박     93.990000  30.444674     10     WHITE   \n1               1  경기  제주-제주시  숙박     72.945273  54.204868     10     WHITE   \n2               2  서울   대전-동구  교통  65461.512195  33.623693     11     WHITE   \n3               3  서울   대전-동구  교통   9828.887539  36.513897     11     WHITE   \n\n            vlm sex_ccd     gb3  \n0  4.494729e+06       M  935877  \n1  3.881218e+06       M  518901  \n2  2.101190e+09       F     287  \n3  4.382339e+08       M    5433  ",
      "text/html": "<div>\n<style scoped>\n    .dataframe tbody tr th:only-of-type {\n        vertical-align: middle;\n    }\n\n    .dataframe tbody tr th {\n        vertical-align: top;\n    }\n\n    .dataframe thead th {\n        text-align: right;\n    }\n</style>\n<table border=\"1\" class=\"dataframe\">\n  <thead>\n    <tr style=\"text-align: right;\">\n      <th></th>\n      <th>Cluster Labels</th>\n      <th>v1</th>\n      <th>v2v3</th>\n      <th>gb2</th>\n      <th>usec</th>\n      <th>cln_age_r</th>\n      <th>month</th>\n      <th>daw_ccd_r</th>\n      <th>vlm</th>\n      <th>sex_ccd</th>\n      <th>gb3</th>\n    </tr>\n  </thead>\n  <tbody>\n    <tr>\n      <th>0</th>\n      <td>0</td>\n      <td>경기</td>\n      <td>제주-제주시</td>\n      <td>숙박</td>\n      <td>93.990000</td>\n      <td>30.444674</td>\n      <td>10</td>\n      <td>WHITE</td>\n      <td>4.494729e+06</td>\n      <td>M</td>\n      <td>935877</td>\n    </tr>\n    <tr>\n      <th>1</th>\n      <td>1</td>\n      <td>경기</td>\n      <td>제주-제주시</td>\n      <td>숙박</td>\n      <td>72.945273</td>\n      <td>54.204868</td>\n      <td>10</td>\n      <td>WHITE</td>\n      <td>3.881218e+06</td>\n      <td>M</td>\n      <td>518901</td>\n    </tr>\n    <tr>\n      <th>2</th>\n      <td>2</td>\n      <td>서울</td>\n      <td>대전-동구</td>\n      <td>교통</td>\n      <td>65461.512195</td>\n      <td>33.623693</td>\n      <td>11</td>\n      <td>WHITE</td>\n      <td>2.101190e+09</td>\n      <td>F</td>\n      <td>287</td>\n    </tr>\n    <tr>\n      <th>3</th>\n      <td>3</td>\n      <td>서울</td>\n      <td>대전-동구</td>\n      <td>교통</td>\n      <td>9828.887539</td>\n      <td>36.513897</td>\n      <td>11</td>\n      <td>WHITE</td>\n      <td>4.382339e+08</td>\n      <td>M</td>\n      <td>5433</td>\n    </tr>\n  </tbody>\n</table>\n</div>"
     },
     "execution_count": 4,
     "metadata": {},
     "output_type": "execute_result"
    }
   ],
   "source": [
    "df.groupby('Cluster Labels').agg({\n",
    "    'v1' : lambda x:x.mode(),\n",
    "    'v2v3' : lambda x:x.mode(),\n",
    "    'gb2' : lambda x:x.mode(),\n",
    "    'usec' : 'mean',\n",
    "    'cln_age_r' : 'mean',\n",
    "    'month' : lambda x:x.mode(),\n",
    "    'daw_ccd_r' : lambda x:x.mode(),\n",
    "    'vlm' : 'mean',\n",
    "    'sex_ccd' : lambda x:x.mode(),\n",
    "    'gb3' : 'count'\n",
    "}).reset_index()"
   ]
  },
  {
   "cell_type": "code",
   "execution_count": 5,
   "id": "38eeee4d-4085-4f38-8dc3-a17c2f123175",
   "metadata": {
    "pycharm": {
     "name": "#%%\n"
    }
   },
   "outputs": [
    {
     "name": "stdout",
     "output_type": "stream",
     "text": [
      "<class 'pandas.core.frame.DataFrame'>\n",
      "RangeIndex: 1460498 entries, 0 to 1460497\n",
      "Data columns (total 13 columns):\n",
      " #   Column          Non-Null Count    Dtype \n",
      "---  ------          --------------    ----- \n",
      " 0   Unnamed: 0      1460498 non-null  int64 \n",
      " 1   v1              1460498 non-null  object\n",
      " 2   gb3             1460498 non-null  object\n",
      " 3   gb2             1460498 non-null  object\n",
      " 4   sex_ccd         1460498 non-null  object\n",
      " 5   cln_age_r       1460498 non-null  int64 \n",
      " 6   daw_ccd_r       1460498 non-null  object\n",
      " 7   apv_ts_dl_tm_r  1460498 non-null  object\n",
      " 8   vlm             1460498 non-null  int64 \n",
      " 9   usec            1460498 non-null  int64 \n",
      " 10  month           1460498 non-null  int64 \n",
      " 11  v2v3            1460498 non-null  object\n",
      " 12  Cluster Labels  1460498 non-null  int64 \n",
      "dtypes: int64(6), object(7)\n",
      "memory usage: 144.9+ MB\n"
     ]
    }
   ],
   "source": [
    "df.info()"
   ]
  },
  {
   "cell_type": "code",
   "execution_count": 6,
   "id": "f35a0508-9ccf-448d-8130-82f397e47f56",
   "metadata": {
    "pycharm": {
     "name": "#%%\n"
    }
   },
   "outputs": [
    {
     "data": {
      "text/plain": "경기      119408\n서울      110777\n인천       72059\n부산       58317\n경남       56847\n충남       54306\n충북       54044\n경북       52944\n대구       49606\n강원       48813\n대전       47422\n전남       41342\n전북       40615\n광주       40430\n울산       35603\n세종       25155\n제주       19248\n구분없음      8941\nName: v1, dtype: int64"
     },
     "execution_count": 6,
     "metadata": {},
     "output_type": "execute_result"
    }
   ],
   "source": [
    "cluster0 = df[df['Cluster Labels'] == 0 ]\n",
    "cluster0.v1.value_counts()"
   ]
  },
  {
   "cell_type": "code",
   "execution_count": 7,
   "id": "158efd38-bea4-4e74-8f4f-cbdb33d025d8",
   "metadata": {
    "pycharm": {
     "name": "#%%\n"
    }
   },
   "outputs": [
    {
     "data": {
      "text/plain": "서울    1840\n경기    1550\n부산     264\n대구     253\n경북     201\n인천     177\n대전     166\n충남     157\n경남     138\n강원     134\n충북     119\n전남     115\n울산      79\n전북      76\n광주      70\n제주      50\n세종      44\nName: v1, dtype: int64"
     },
     "execution_count": 7,
     "metadata": {},
     "output_type": "execute_result"
    }
   ],
   "source": [
    "cluster3 = df[df['Cluster Labels'] == 3 ]\n",
    "cluster3.v1.value_counts()"
   ]
  },
  {
   "cell_type": "code",
   "execution_count": 8,
   "id": "ae468033-807d-4f3a-854a-17619754403f",
   "metadata": {
    "pycharm": {
     "name": "#%%\n"
    }
   },
   "outputs": [
    {
     "data": {
      "text/plain": "제주-제주시     23566\n서울-강남구     18255\n인천-중구      14694\n부산-해운대구    13594\n제주-서귀포시    13570\n           ...  \n경남-의령군       604\n전북-진안군       550\n경북-고령군       440\n경북-영양군       353\n전북-장수군       345\nName: v2v3, Length: 229, dtype: int64"
     },
     "execution_count": 8,
     "metadata": {},
     "output_type": "execute_result"
    }
   ],
   "source": [
    "cluster0.v2v3.value_counts()"
   ]
  },
  {
   "cell_type": "code",
   "execution_count": 9,
   "id": "7ba69ec3-3784-4551-bd5e-6eed99c34eb0",
   "metadata": {
    "pycharm": {
     "name": "#%%\n"
    }
   },
   "outputs": [
    {
     "data": {
      "text/plain": "대전-동구      2283\n서울-강남구      865\n서울-강서구      596\n제주-제주시      510\n서울-중구       272\n제주-서귀포시     193\n서울-서초구      124\n경기-안양시      114\n경기-성남시      113\n부산-강서구       56\n강원-홍천군       54\n강원-평창군       38\n경기-과천시       34\n서울-종로구       33\n서울-송파구       26\n울산-동구        18\n서울-용산구       18\n서울-영등포구      16\n강원-속초시       11\n경기-용인시       10\n부산-해운대구       9\n인천-중구         7\n강원-정선군        3\n경북-경주시        3\n강원-동해시        2\n대구-수성구        2\n대전-유성구        1\n강원-고성군        1\n서울-구로구        1\n경기-평택시        1\n부산-북구         1\n경기-수원시        1\n전북-전주시        1\n전남-화순군        1\n부산-기장군        1\n경남-창원시        1\n경기-연천군        1\n울산-남구         1\n충북-청주시        1\n서울-광진구        1\n전남-목포시        1\n강원-삼척시        1\n광주-북구         1\n경북-포항시        1\n경기-안성시        1\n전북-남원시        1\n서울-마포구        1\n충남-천안시        1\n인천-연수구        1\nName: v2v3, dtype: int64"
     },
     "execution_count": 9,
     "metadata": {},
     "output_type": "execute_result"
    }
   ],
   "source": [
    "cluster3.v2v3.value_counts()"
   ]
  },
  {
   "cell_type": "code",
   "execution_count": 9,
   "id": "323b0d69-b509-46bc-ad1a-b9e7ee77669f",
   "metadata": {
    "pycharm": {
     "name": "#%%\n"
    }
   },
   "outputs": [],
   "source": []
  },
  {
   "cell_type": "code",
   "execution_count": 2,
   "id": "ab1cb195-7375-4deb-8d4c-fab0a1144e65",
   "metadata": {
    "pycharm": {
     "name": "#%%\n"
    }
   },
   "outputs": [],
   "source": [
    "df_8group = pd.read_csv('2021년_k=8_K_prototype.csv')"
   ]
  },
  {
   "cell_type": "code",
   "execution_count": 3,
   "id": "40a66ae1-f423-400f-ab61-10a22adbd43d",
   "metadata": {
    "pycharm": {
     "name": "#%%\n"
    }
   },
   "outputs": [
    {
     "data": {
      "text/plain": "   Cluster Labels  v1    v2v3 gb2          usec  cln_age_r    month daw_ccd_r  \\\n0               0  서울   대전-동구  교통   4874.958979  37.011006       10     WHITE   \n1               1  경기  제주-제주시  숙박     57.720042  56.126130       10       RED   \n2               2  서울   인천-중구  숙박     61.494668  47.122536        1     WHITE   \n3               3  인천  제주-제주시  숙박     70.339781  41.037628       11       RED   \n4               4  서울   대전-동구  교통  71232.257384  33.164557  [5, 11]     WHITE   \n5               5  서울   대전-동구  교통  18019.954006  35.919881       11     WHITE   \n6               6  서울  제주-제주시  숙박     75.473444  23.927779       10     WHITE   \n7               7  경기  제주-제주시  숙박     76.052042  27.037643        5       RED   \n\n            vlm sex_ccd     gb3  \n0  2.090373e+08       M   11994  \n1  3.083239e+06       F  288386  \n2  3.627883e+06       M  345391  \n3  3.759157e+06       F  206471  \n4  2.225920e+09       F     237  \n5  8.517092e+08       M    1348  \n6  3.523651e+06       M  324919  \n7  3.401392e+06       F  281752  ",
      "text/html": "<div>\n<style scoped>\n    .dataframe tbody tr th:only-of-type {\n        vertical-align: middle;\n    }\n\n    .dataframe tbody tr th {\n        vertical-align: top;\n    }\n\n    .dataframe thead th {\n        text-align: right;\n    }\n</style>\n<table border=\"1\" class=\"dataframe\">\n  <thead>\n    <tr style=\"text-align: right;\">\n      <th></th>\n      <th>Cluster Labels</th>\n      <th>v1</th>\n      <th>v2v3</th>\n      <th>gb2</th>\n      <th>usec</th>\n      <th>cln_age_r</th>\n      <th>month</th>\n      <th>daw_ccd_r</th>\n      <th>vlm</th>\n      <th>sex_ccd</th>\n      <th>gb3</th>\n    </tr>\n  </thead>\n  <tbody>\n    <tr>\n      <th>0</th>\n      <td>0</td>\n      <td>서울</td>\n      <td>대전-동구</td>\n      <td>교통</td>\n      <td>4874.958979</td>\n      <td>37.011006</td>\n      <td>10</td>\n      <td>WHITE</td>\n      <td>2.090373e+08</td>\n      <td>M</td>\n      <td>11994</td>\n    </tr>\n    <tr>\n      <th>1</th>\n      <td>1</td>\n      <td>경기</td>\n      <td>제주-제주시</td>\n      <td>숙박</td>\n      <td>57.720042</td>\n      <td>56.126130</td>\n      <td>10</td>\n      <td>RED</td>\n      <td>3.083239e+06</td>\n      <td>F</td>\n      <td>288386</td>\n    </tr>\n    <tr>\n      <th>2</th>\n      <td>2</td>\n      <td>서울</td>\n      <td>인천-중구</td>\n      <td>숙박</td>\n      <td>61.494668</td>\n      <td>47.122536</td>\n      <td>1</td>\n      <td>WHITE</td>\n      <td>3.627883e+06</td>\n      <td>M</td>\n      <td>345391</td>\n    </tr>\n    <tr>\n      <th>3</th>\n      <td>3</td>\n      <td>인천</td>\n      <td>제주-제주시</td>\n      <td>숙박</td>\n      <td>70.339781</td>\n      <td>41.037628</td>\n      <td>11</td>\n      <td>RED</td>\n      <td>3.759157e+06</td>\n      <td>F</td>\n      <td>206471</td>\n    </tr>\n    <tr>\n      <th>4</th>\n      <td>4</td>\n      <td>서울</td>\n      <td>대전-동구</td>\n      <td>교통</td>\n      <td>71232.257384</td>\n      <td>33.164557</td>\n      <td>[5, 11]</td>\n      <td>WHITE</td>\n      <td>2.225920e+09</td>\n      <td>F</td>\n      <td>237</td>\n    </tr>\n    <tr>\n      <th>5</th>\n      <td>5</td>\n      <td>서울</td>\n      <td>대전-동구</td>\n      <td>교통</td>\n      <td>18019.954006</td>\n      <td>35.919881</td>\n      <td>11</td>\n      <td>WHITE</td>\n      <td>8.517092e+08</td>\n      <td>M</td>\n      <td>1348</td>\n    </tr>\n    <tr>\n      <th>6</th>\n      <td>6</td>\n      <td>서울</td>\n      <td>제주-제주시</td>\n      <td>숙박</td>\n      <td>75.473444</td>\n      <td>23.927779</td>\n      <td>10</td>\n      <td>WHITE</td>\n      <td>3.523651e+06</td>\n      <td>M</td>\n      <td>324919</td>\n    </tr>\n    <tr>\n      <th>7</th>\n      <td>7</td>\n      <td>경기</td>\n      <td>제주-제주시</td>\n      <td>숙박</td>\n      <td>76.052042</td>\n      <td>27.037643</td>\n      <td>5</td>\n      <td>RED</td>\n      <td>3.401392e+06</td>\n      <td>F</td>\n      <td>281752</td>\n    </tr>\n  </tbody>\n</table>\n</div>"
     },
     "execution_count": 3,
     "metadata": {},
     "output_type": "execute_result"
    }
   ],
   "source": [
    "df_8group.groupby('Cluster Labels').agg({\n",
    "    'v1' : lambda x:x.mode(),\n",
    "    'v2v3' : lambda x:x.mode(),\n",
    "    'gb2' : lambda x:x.mode(),\n",
    "    'usec' : 'mean',\n",
    "    'cln_age_r' : 'mean',\n",
    "    'month' : lambda x:x.mode(),\n",
    "    'daw_ccd_r' : lambda x:x.mode(),\n",
    "    'vlm' : 'mean',\n",
    "    'sex_ccd' : lambda x:x.mode(),\n",
    "    'gb3' : 'count'\n",
    "}).reset_index()"
   ]
  },
  {
   "cell_type": "raw",
   "id": "2ab6ce84-9aa5-479e-8d19-aa12bf3ee543",
   "metadata": {
    "pycharm": {
     "name": "#%% raw\n"
    }
   },
   "source": [
    "그래도 5그룹 메인그룹, 3그룹 소수그룹으로 나누어서 분석하는것이 좋아보임."
   ]
  },
  {
   "cell_type": "code",
   "execution_count": 4,
   "id": "4c72ee19-6b05-4838-9d7d-03e3771866c4",
   "metadata": {
    "pycharm": {
     "name": "#%%\n"
    }
   },
   "outputs": [],
   "source": [
    "cluster0 = df_8group[df_8group['Cluster Labels'] == 0 ]\n",
    "cluster1 = df_8group[df_8group['Cluster Labels'] == 1 ]\n",
    "cluster2 = df_8group[df_8group['Cluster Labels'] == 2 ]\n",
    "cluster3 = df_8group[df_8group['Cluster Labels'] == 3 ]\n",
    "cluster4 = df_8group[df_8group['Cluster Labels'] == 4 ]\n",
    "cluster5 = df_8group[df_8group['Cluster Labels'] == 5 ]\n",
    "cluster6 = df_8group[df_8group['Cluster Labels'] == 6 ]\n",
    "cluster7 = df_8group[df_8group['Cluster Labels'] == 7 ]"
   ]
  },
  {
   "cell_type": "code",
   "execution_count": 5,
   "id": "bf803c51-ae07-4ff8-8f4a-a41f380ddf1f",
   "metadata": {
    "pycharm": {
     "name": "#%%\n"
    }
   },
   "outputs": [],
   "source": [
    "import plotnine"
   ]
  },
  {
   "cell_type": "code",
   "execution_count": 6,
   "id": "3f6ffcd4-ca97-4abe-94a4-013534cfc908",
   "metadata": {
    "pycharm": {
     "name": "#%%\n"
    }
   },
   "outputs": [
    {
     "name": "stdout",
     "output_type": "stream",
     "text": [
      "<class 'pandas.core.frame.DataFrame'>\n",
      "Int64Index: 11994 entries, 1 to 1459537\n",
      "Data columns (total 13 columns):\n",
      " #   Column          Non-Null Count  Dtype \n",
      "---  ------          --------------  ----- \n",
      " 0   Unnamed: 0      11994 non-null  int64 \n",
      " 1   v1              11994 non-null  object\n",
      " 2   gb3             11994 non-null  object\n",
      " 3   gb2             11994 non-null  object\n",
      " 4   sex_ccd         11994 non-null  object\n",
      " 5   cln_age_r       11994 non-null  int64 \n",
      " 6   daw_ccd_r       11994 non-null  object\n",
      " 7   apv_ts_dl_tm_r  11994 non-null  object\n",
      " 8   vlm             11994 non-null  int64 \n",
      " 9   usec            11994 non-null  int64 \n",
      " 10  month           11994 non-null  int64 \n",
      " 11  v2v3            11994 non-null  object\n",
      " 12  Cluster Labels  11994 non-null  int64 \n",
      "dtypes: int64(6), object(7)\n",
      "memory usage: 1.3+ MB\n"
     ]
    }
   ],
   "source": [
    "cluster0.info()"
   ]
  },
  {
   "cell_type": "code",
   "execution_count": 7,
   "outputs": [
    {
     "name": "stdout",
     "output_type": "stream",
     "text": [
      "숙박      199179\n",
      "체험       56200\n",
      "교통       36955\n",
      "관광쇼핑     25458\n",
      "여행사       7127\n",
      "Name: gb2, dtype: int64\n"
     ]
    }
   ],
   "source": [
    "# 20대\n",
    "print(cluster6.gb2.value_counts())"
   ],
   "metadata": {
    "collapsed": false,
    "pycharm": {
     "name": "#%%\n"
    }
   }
  },
  {
   "cell_type": "code",
   "execution_count": 8,
   "outputs": [
    {
     "data": {
      "text/plain": "숙박      154432\n체험       61811\n교통       31755\n관광쇼핑     27493\n여행사       6261\nName: gb2, dtype: int64"
     },
     "execution_count": 8,
     "metadata": {},
     "output_type": "execute_result"
    }
   ],
   "source": [
    "# 20대\n",
    "cluster7.gb2.value_counts()"
   ],
   "metadata": {
    "collapsed": false,
    "pycharm": {
     "name": "#%%\n"
    }
   }
  },
  {
   "cell_type": "code",
   "execution_count": 9,
   "outputs": [
    {
     "data": {
      "text/plain": "제주-제주시     7930\n서울-강남구     6039\n인천-중구      5469\n부산-해운대구    4585\n제주-서귀포시    4437\n           ... \n전북-임실군      172\n전북-진안군      123\n경북-영양군      110\n전북-장수군      105\n경북-고령군       99\nName: v2v3, Length: 229, dtype: int64"
     },
     "execution_count": 9,
     "metadata": {},
     "output_type": "execute_result"
    }
   ],
   "source": [
    "cluster6.v2v3.value_counts(sort=True)"
   ],
   "metadata": {
    "collapsed": false,
    "pycharm": {
     "name": "#%%\n"
    }
   }
  },
  {
   "cell_type": "code",
   "execution_count": 10,
   "outputs": [
    {
     "data": {
      "text/plain": "제주-제주시     7535\n서울-강남구     5886\n인천-중구      4625\n부산-해운대구    4497\n제주-서귀포시    4379\n           ... \n충남-청양군      132\n경북-고령군      129\n경남-의령군      126\n전북-장수군       71\n경북-영양군       49\nName: v2v3, Length: 229, dtype: int64"
     },
     "execution_count": 10,
     "metadata": {},
     "output_type": "execute_result"
    }
   ],
   "source": [
    "cluster7.v2v3.value_counts(sort=True)"
   ],
   "metadata": {
    "collapsed": false,
    "pycharm": {
     "name": "#%%\n"
    }
   }
  },
  {
   "cell_type": "code",
   "execution_count": 11,
   "outputs": [],
   "source": [
    "gb2_act = df_8group[df_8group['gb2'] == '체험' ]"
   ],
   "metadata": {
    "collapsed": false,
    "pycharm": {
     "name": "#%%\n"
    }
   }
  },
  {
   "cell_type": "code",
   "execution_count": 12,
   "outputs": [
    {
     "data": {
      "text/plain": "서울-송파구     6931\n충남-태안군     5366\n전남-여수시     5232\n경북-경주시     4743\n부산-해운대구    4638\n           ... \n전북-진안군       58\n경북-고령군       52\n부산-동구        52\n경북-영양군       15\n강원-화천군       13\nName: v2v3, Length: 229, dtype: int64"
     },
     "execution_count": 12,
     "metadata": {},
     "output_type": "execute_result"
    }
   ],
   "source": [
    "# 다르게 보면 순위가 상당히 낮게 나오는데(어떤 그룹에서 봐도 100위권 밖)\n",
    "# 체험 소비로 보면 상당히 우수해보임.\n",
    "gb2_act.v2v3.value_counts(sort=True)"
   ],
   "metadata": {
    "collapsed": false,
    "pycharm": {
     "name": "#%%\n"
    }
   }
  },
  {
   "cell_type": "code",
   "execution_count": 13,
   "outputs": [
    {
     "data": {
      "text/plain": "서울-송파구     1511\n충남-태안군     1164\n전남-여수시     1092\n경북-경주시     1074\n부산-해운대구    1040\n           ... \n전북-진안군       10\n서울-구로구       10\n충남-금산군        7\n강원-화천군        6\n부산-동구         3\nName: v2v3, Length: 228, dtype: int64"
     },
     "execution_count": 13,
     "metadata": {},
     "output_type": "execute_result"
    }
   ],
   "source": [
    "# 여성 20-30대 그룹에서 체험형 소비 순위 봤을때도 양호\n",
    "cluster7[cluster7['gb2'] == '체험' ].v2v3.value_counts(sort=True)"
   ],
   "metadata": {
    "collapsed": false,
    "pycharm": {
     "name": "#%%\n"
    }
   }
  },
  {
   "cell_type": "code",
   "execution_count": 14,
   "outputs": [
    {
     "data": {
      "text/plain": "서울-송파구     1593\n충남-태안군     1123\n전남-여수시     1111\n부산-서구      1030\n부산-해운대구    1022\n           ... \n충남-청양군        7\n전북-진안군        4\n경북-고령군        4\n경북-영양군        3\n강원-화천군        2\nName: v2v3, Length: 229, dtype: int64"
     },
     "execution_count": 14,
     "metadata": {},
     "output_type": "execute_result"
    }
   ],
   "source": [
    "# 남성의 경우 비교적 낮지만 상위권에 랭크됨.\n",
    "cluster6[cluster6['gb2'] == '체험'].v2v3.value_counts(sort=True)"
   ],
   "metadata": {
    "collapsed": false,
    "pycharm": {
     "name": "#%%\n"
    }
   }
  },
  {
   "cell_type": "markdown",
   "source": [
    "잘못된 플롯 고치기."
   ],
   "metadata": {
    "collapsed": false,
    "pycharm": {
     "name": "#%% md\n"
    }
   }
  },
  {
   "cell_type": "code",
   "execution_count": 3,
   "outputs": [],
   "source": [
    "ndf = pd.read_csv(r'2022년\\카드데이터\\제천시 구매내역 데이터.csv')"
   ],
   "metadata": {
    "collapsed": false,
    "pycharm": {
     "name": "#%%\n"
    }
   }
  },
  {
   "cell_type": "code",
   "execution_count": 4,
   "outputs": [
    {
     "data": {
      "text/plain": "   v1  v2   v3    gb3   gb2 sex_ccd  cln_age_r   ta_ym daw_ccd_r  \\\n0  서울  충북  제천시   취미오락    외식       F         60  202112     WHITE   \n1  경기  충북  제천시   취미오락    외식       M         40  202111       RED   \n2  충북  충북  제천시   취미오락  패션쇼핑       M         20  202109     WHITE   \n3  경기  충북  제천시  스포츠활동    골프       M         50  202109       RED   \n4  대구  충북  제천시   취미오락  종합쇼핑       M         40  202107       RED   \n\n  apv_ts_dl_tm_r       vlm  usec  \n0             활동  19846900   729  \n1             휴식  27099200   527  \n2             활동  34355100   426  \n3             활동  41793800   193  \n4             활동   1263400    45  ",
      "text/html": "<div>\n<style scoped>\n    .dataframe tbody tr th:only-of-type {\n        vertical-align: middle;\n    }\n\n    .dataframe tbody tr th {\n        vertical-align: top;\n    }\n\n    .dataframe thead th {\n        text-align: right;\n    }\n</style>\n<table border=\"1\" class=\"dataframe\">\n  <thead>\n    <tr style=\"text-align: right;\">\n      <th></th>\n      <th>v1</th>\n      <th>v2</th>\n      <th>v3</th>\n      <th>gb3</th>\n      <th>gb2</th>\n      <th>sex_ccd</th>\n      <th>cln_age_r</th>\n      <th>ta_ym</th>\n      <th>daw_ccd_r</th>\n      <th>apv_ts_dl_tm_r</th>\n      <th>vlm</th>\n      <th>usec</th>\n    </tr>\n  </thead>\n  <tbody>\n    <tr>\n      <th>0</th>\n      <td>서울</td>\n      <td>충북</td>\n      <td>제천시</td>\n      <td>취미오락</td>\n      <td>외식</td>\n      <td>F</td>\n      <td>60</td>\n      <td>202112</td>\n      <td>WHITE</td>\n      <td>활동</td>\n      <td>19846900</td>\n      <td>729</td>\n    </tr>\n    <tr>\n      <th>1</th>\n      <td>경기</td>\n      <td>충북</td>\n      <td>제천시</td>\n      <td>취미오락</td>\n      <td>외식</td>\n      <td>M</td>\n      <td>40</td>\n      <td>202111</td>\n      <td>RED</td>\n      <td>휴식</td>\n      <td>27099200</td>\n      <td>527</td>\n    </tr>\n    <tr>\n      <th>2</th>\n      <td>충북</td>\n      <td>충북</td>\n      <td>제천시</td>\n      <td>취미오락</td>\n      <td>패션쇼핑</td>\n      <td>M</td>\n      <td>20</td>\n      <td>202109</td>\n      <td>WHITE</td>\n      <td>활동</td>\n      <td>34355100</td>\n      <td>426</td>\n    </tr>\n    <tr>\n      <th>3</th>\n      <td>경기</td>\n      <td>충북</td>\n      <td>제천시</td>\n      <td>스포츠활동</td>\n      <td>골프</td>\n      <td>M</td>\n      <td>50</td>\n      <td>202109</td>\n      <td>RED</td>\n      <td>활동</td>\n      <td>41793800</td>\n      <td>193</td>\n    </tr>\n    <tr>\n      <th>4</th>\n      <td>대구</td>\n      <td>충북</td>\n      <td>제천시</td>\n      <td>취미오락</td>\n      <td>종합쇼핑</td>\n      <td>M</td>\n      <td>40</td>\n      <td>202107</td>\n      <td>RED</td>\n      <td>활동</td>\n      <td>1263400</td>\n      <td>45</td>\n    </tr>\n  </tbody>\n</table>\n</div>"
     },
     "execution_count": 4,
     "metadata": {},
     "output_type": "execute_result"
    }
   ],
   "source": [
    "ndf.head()"
   ],
   "metadata": {
    "collapsed": false,
    "pycharm": {
     "name": "#%%\n"
    }
   }
  },
  {
   "cell_type": "code",
   "execution_count": 5,
   "outputs": [],
   "source": [
    "outerdf = ndf[ndf.v1 != '충북']"
   ],
   "metadata": {
    "collapsed": false,
    "pycharm": {
     "name": "#%%\n"
    }
   }
  },
  {
   "cell_type": "code",
   "execution_count": 32,
   "outputs": [
    {
     "data": {
      "text/plain": "        gb2      usec\n0        외식  10725102\n1      종합쇼핑   3468494\n2     인터넷게임    546867\n3        미용    303682\n4        숙박    302448\n5   스포츠용품구매    252002\n6        골프    232200\n7     레저스포츠    194457\n8      패션쇼핑    183830\n9        체험    133783\n10       독서    105537\n11       유흥     80790\n12  애완동물돌보기     75328\n13     사진촬영     27181\n14       목욕     26953\n15   미술공예참여     18234\n16     교육훈련     15060\n17     종교활동     13797\n18       헬스     12668\n19     공연관람     11049\n20     관광쇼핑      6341\n21      자전거      1537\n22     음악감상      1362\n23       교통       938\n24     악기연주       502\n25      여행사       128",
      "text/html": "<div>\n<style scoped>\n    .dataframe tbody tr th:only-of-type {\n        vertical-align: middle;\n    }\n\n    .dataframe tbody tr th {\n        vertical-align: top;\n    }\n\n    .dataframe thead th {\n        text-align: right;\n    }\n</style>\n<table border=\"1\" class=\"dataframe\">\n  <thead>\n    <tr style=\"text-align: right;\">\n      <th></th>\n      <th>gb2</th>\n      <th>usec</th>\n    </tr>\n  </thead>\n  <tbody>\n    <tr>\n      <th>0</th>\n      <td>외식</td>\n      <td>10725102</td>\n    </tr>\n    <tr>\n      <th>1</th>\n      <td>종합쇼핑</td>\n      <td>3468494</td>\n    </tr>\n    <tr>\n      <th>2</th>\n      <td>인터넷게임</td>\n      <td>546867</td>\n    </tr>\n    <tr>\n      <th>3</th>\n      <td>미용</td>\n      <td>303682</td>\n    </tr>\n    <tr>\n      <th>4</th>\n      <td>숙박</td>\n      <td>302448</td>\n    </tr>\n    <tr>\n      <th>5</th>\n      <td>스포츠용품구매</td>\n      <td>252002</td>\n    </tr>\n    <tr>\n      <th>6</th>\n      <td>골프</td>\n      <td>232200</td>\n    </tr>\n    <tr>\n      <th>7</th>\n      <td>레저스포츠</td>\n      <td>194457</td>\n    </tr>\n    <tr>\n      <th>8</th>\n      <td>패션쇼핑</td>\n      <td>183830</td>\n    </tr>\n    <tr>\n      <th>9</th>\n      <td>체험</td>\n      <td>133783</td>\n    </tr>\n    <tr>\n      <th>10</th>\n      <td>독서</td>\n      <td>105537</td>\n    </tr>\n    <tr>\n      <th>11</th>\n      <td>유흥</td>\n      <td>80790</td>\n    </tr>\n    <tr>\n      <th>12</th>\n      <td>애완동물돌보기</td>\n      <td>75328</td>\n    </tr>\n    <tr>\n      <th>13</th>\n      <td>사진촬영</td>\n      <td>27181</td>\n    </tr>\n    <tr>\n      <th>14</th>\n      <td>목욕</td>\n      <td>26953</td>\n    </tr>\n    <tr>\n      <th>15</th>\n      <td>미술공예참여</td>\n      <td>18234</td>\n    </tr>\n    <tr>\n      <th>16</th>\n      <td>교육훈련</td>\n      <td>15060</td>\n    </tr>\n    <tr>\n      <th>17</th>\n      <td>종교활동</td>\n      <td>13797</td>\n    </tr>\n    <tr>\n      <th>18</th>\n      <td>헬스</td>\n      <td>12668</td>\n    </tr>\n    <tr>\n      <th>19</th>\n      <td>공연관람</td>\n      <td>11049</td>\n    </tr>\n    <tr>\n      <th>20</th>\n      <td>관광쇼핑</td>\n      <td>6341</td>\n    </tr>\n    <tr>\n      <th>21</th>\n      <td>자전거</td>\n      <td>1537</td>\n    </tr>\n    <tr>\n      <th>22</th>\n      <td>음악감상</td>\n      <td>1362</td>\n    </tr>\n    <tr>\n      <th>23</th>\n      <td>교통</td>\n      <td>938</td>\n    </tr>\n    <tr>\n      <th>24</th>\n      <td>악기연주</td>\n      <td>502</td>\n    </tr>\n    <tr>\n      <th>25</th>\n      <td>여행사</td>\n      <td>128</td>\n    </tr>\n  </tbody>\n</table>\n</div>"
     },
     "execution_count": 32,
     "metadata": {},
     "output_type": "execute_result"
    }
   ],
   "source": [
    "nouter = outerdf.groupby('gb2').agg({\n",
    "    'usec' : 'sum'\n",
    "}).sort_values('usec', ascending = False).reset_index()\n",
    "nouter"
   ],
   "metadata": {
    "collapsed": false,
    "pycharm": {
     "name": "#%%\n"
    }
   }
  },
  {
   "cell_type": "code",
   "execution_count": 33,
   "outputs": [],
   "source": [
    "import matplotlib.pyplot as plt\n",
    "import seaborn as sns"
   ],
   "metadata": {
    "collapsed": false,
    "pycharm": {
     "name": "#%%\n"
    }
   }
  },
  {
   "cell_type": "code",
   "execution_count": 46,
   "outputs": [
    {
     "name": "stderr",
     "output_type": "stream",
     "text": [
      "C:\\Users\\styli\\anaconda3\\lib\\site-packages\\seaborn\\_decorators.py:36: FutureWarning: Pass the following variables as keyword args: x, y. From version 0.12, the only valid positional argument will be `data`, and passing other arguments without an explicit keyword will result in an error or misinterpretation.\n"
     ]
    },
    {
     "data": {
      "text/plain": "[(0.0, 1000000.0)]"
     },
     "execution_count": 46,
     "metadata": {},
     "output_type": "execute_result"
    },
    {
     "data": {
      "text/plain": "<Figure size 432x288 with 1 Axes>",
      "image/png": "[encoded data removed]"
     },
     "metadata": {},
     "output_type": "display_data"
    }
   ],
   "source": [
    "plt.rc('font', family='Malgun Gothic')     # 글꼴 세팅\n",
    "sns.barplot(nouter.usec, nouter.gb2).set(xlim = (0,1e6))"
   ],
   "metadata": {
    "collapsed": false,
    "pycharm": {
     "name": "#%%\n"
    }
   }
  },
  {
   "cell_type": "code",
   "execution_count": 38,
   "outputs": [
    {
     "data": {
      "text/plain": "        gb2      usec\n0        외식  22325165\n1      종합쇼핑  15847232\n2        미용   1434301\n3     인터넷게임   1324265\n4   스포츠용품구매    975195\n5      패션쇼핑    682526\n6     레저스포츠    388830\n7        유흥    307744\n8   애완동물돌보기    291745\n9        골프    246622\n10     교육훈련    162575\n11       숙박    135265\n12       독서    134600\n13       목욕     89395\n14       체험     72386\n15       헬스     67979\n16     공연관람     54098\n17     사진촬영     47613\n18     종교활동     11244\n19     음악감상     10220\n20   미술공예참여      8953\n21      자전거      8031\n22     악기연주      2388\n23     관광쇼핑      1885\n24       교통      1608\n25      여행사       137",
      "text/html": "<div>\n<style scoped>\n    .dataframe tbody tr th:only-of-type {\n        vertical-align: middle;\n    }\n\n    .dataframe tbody tr th {\n        vertical-align: top;\n    }\n\n    .dataframe thead th {\n        text-align: right;\n    }\n</style>\n<table border=\"1\" class=\"dataframe\">\n  <thead>\n    <tr style=\"text-align: right;\">\n      <th></th>\n      <th>gb2</th>\n      <th>usec</th>\n    </tr>\n  </thead>\n  <tbody>\n    <tr>\n      <th>0</th>\n      <td>외식</td>\n      <td>22325165</td>\n    </tr>\n    <tr>\n      <th>1</th>\n      <td>종합쇼핑</td>\n      <td>15847232</td>\n    </tr>\n    <tr>\n      <th>2</th>\n      <td>미용</td>\n      <td>1434301</td>\n    </tr>\n    <tr>\n      <th>3</th>\n      <td>인터넷게임</td>\n      <td>1324265</td>\n    </tr>\n    <tr>\n      <th>4</th>\n      <td>스포츠용품구매</td>\n      <td>975195</td>\n    </tr>\n    <tr>\n      <th>5</th>\n      <td>패션쇼핑</td>\n      <td>682526</td>\n    </tr>\n    <tr>\n      <th>6</th>\n      <td>레저스포츠</td>\n      <td>388830</td>\n    </tr>\n    <tr>\n      <th>7</th>\n      <td>유흥</td>\n      <td>307744</td>\n    </tr>\n    <tr>\n      <th>8</th>\n      <td>애완동물돌보기</td>\n      <td>291745</td>\n    </tr>\n    <tr>\n      <th>9</th>\n      <td>골프</td>\n      <td>246622</td>\n    </tr>\n    <tr>\n      <th>10</th>\n      <td>교육훈련</td>\n      <td>162575</td>\n    </tr>\n    <tr>\n      <th>11</th>\n      <td>숙박</td>\n      <td>135265</td>\n    </tr>\n    <tr>\n      <th>12</th>\n      <td>독서</td>\n      <td>134600</td>\n    </tr>\n    <tr>\n      <th>13</th>\n      <td>목욕</td>\n      <td>89395</td>\n    </tr>\n    <tr>\n      <th>14</th>\n      <td>체험</td>\n      <td>72386</td>\n    </tr>\n    <tr>\n      <th>15</th>\n      <td>헬스</td>\n      <td>67979</td>\n    </tr>\n    <tr>\n      <th>16</th>\n      <td>공연관람</td>\n      <td>54098</td>\n    </tr>\n    <tr>\n      <th>17</th>\n      <td>사진촬영</td>\n      <td>47613</td>\n    </tr>\n    <tr>\n      <th>18</th>\n      <td>종교활동</td>\n      <td>11244</td>\n    </tr>\n    <tr>\n      <th>19</th>\n      <td>음악감상</td>\n      <td>10220</td>\n    </tr>\n    <tr>\n      <th>20</th>\n      <td>미술공예참여</td>\n      <td>8953</td>\n    </tr>\n    <tr>\n      <th>21</th>\n      <td>자전거</td>\n      <td>8031</td>\n    </tr>\n    <tr>\n      <th>22</th>\n      <td>악기연주</td>\n      <td>2388</td>\n    </tr>\n    <tr>\n      <th>23</th>\n      <td>관광쇼핑</td>\n      <td>1885</td>\n    </tr>\n    <tr>\n      <th>24</th>\n      <td>교통</td>\n      <td>1608</td>\n    </tr>\n    <tr>\n      <th>25</th>\n      <td>여행사</td>\n      <td>137</td>\n    </tr>\n  </tbody>\n</table>\n</div>"
     },
     "execution_count": 38,
     "metadata": {},
     "output_type": "execute_result"
    }
   ],
   "source": [
    "innerdf = ndf[ndf.v1 == '충북']\n",
    "ninner = innerdf.groupby('gb2').agg({\n",
    "    'usec' : 'sum'\n",
    "}).sort_values('usec', ascending = False).reset_index()\n",
    "ninner"
   ],
   "metadata": {
    "collapsed": false,
    "pycharm": {
     "name": "#%%\n"
    }
   }
  },
  {
   "cell_type": "code",
   "execution_count": 49,
   "outputs": [
    {
     "name": "stderr",
     "output_type": "stream",
     "text": [
      "C:\\Users\\styli\\anaconda3\\lib\\site-packages\\seaborn\\_decorators.py:36: FutureWarning: Pass the following variables as keyword args: x, y. From version 0.12, the only valid positional argument will be `data`, and passing other arguments without an explicit keyword will result in an error or misinterpretation.\n"
     ]
    },
    {
     "data": {
      "text/plain": "[(0.0, 1000000.0)]"
     },
     "execution_count": 49,
     "metadata": {},
     "output_type": "execute_result"
    },
    {
     "data": {
      "text/plain": "<Figure size 432x288 with 1 Axes>",
      "image/png": "[encoded data removed]"
     },
     "metadata": {},
     "output_type": "display_data"
    }
   ],
   "source": [
    "plt.rc('font', family='Malgun Gothic')     # 글꼴 세팅\n",
    "sns.barplot(ninner.usec, ninner.gb2).set(xlim = (0,1e6))"
   ],
   "metadata": {
    "collapsed": false,
    "pycharm": {
     "name": "#%%\n"
    }
   }
  },
  {
   "cell_type": "code",
   "execution_count": null,
   "outputs": [],
   "source": [],
   "metadata": {
    "collapsed": false,
    "pycharm": {
     "name": "#%%\n"
    }
   }
  },
  {
   "cell_type": "code",
   "execution_count": null,
   "outputs": [],
   "source": [],
   "metadata": {
    "collapsed": false,
    "pycharm": {
     "name": "#%%\n"
    }
   }
  }
 ],
 "metadata": {
  "kernelspec": {
   "display_name": "Python 3 (ipykernel)",
   "language": "python",
   "name": "python3"
  },
  "language_info": {
   "codemirror_mode": {
    "name": "ipython",
    "version": 3
   },
   "file_extension": ".py",
   "mimetype": "text/x-python",
   "name": "python",
   "nbconvert_exporter": "python",
   "pygments_lexer": "ipython3",
   "version": "3.8.13"
  }
 },
 "nbformat": 4,
 "nbformat_minor": 5
}